{
 "cells": [
  {
   "cell_type": "code",
   "execution_count": 2,
   "metadata": {},
   "outputs": [
    {
     "name": "stdout",
     "output_type": "stream",
     "text": [
      "Note: you may need to restart the kernel to use updated packages.\n"
     ]
    },
    {
     "name": "stderr",
     "output_type": "stream",
     "text": [
      "ERROR: Invalid requirement: 'nltk``': Expected end or semicolon (after name and no valid version specifier)\n",
      "    nltk``\n",
      "        ^\n"
     ]
    }
   ],
   "source": [
    "#install library nltk (pengolahan data bahasa manusia)\n",
    "%pip install nltk``"
   ]
  },
  {
   "cell_type": "code",
   "execution_count": 3,
   "metadata": {},
   "outputs": [],
   "source": [
    "import nltk\n",
    "\n"
   ]
  },
  {
   "cell_type": "code",
   "execution_count": 4,
   "metadata": {},
   "outputs": [
    {
     "name": "stderr",
     "output_type": "stream",
     "text": [
      "[nltk_data] Downloading package punkt to c:\\Users\\LENOVO\\AppData\\Local\n",
      "[nltk_data]     \\Programs\\Python\\Python38\\lib\\nltk_data...\n",
      "[nltk_data]   Package punkt is already up-to-date!\n"
     ]
    },
    {
     "data": {
      "text/plain": [
       "True"
      ]
     },
     "execution_count": 4,
     "metadata": {},
     "output_type": "execute_result"
    }
   ],
   "source": [
    "nltk.download('punkt')"
   ]
  },
  {
   "cell_type": "code",
   "execution_count": 5,
   "metadata": {},
   "outputs": [],
   "source": [
    "import pandas as pd\n",
    "import numpy as np\n",
    "from nltk.corpus import stopwords\n",
    "from nltk import ngrams \n",
    "from nltk import word_tokenize\n",
    "import string\n",
    "from sklearn.feature_extraction.text import TfidfVectorizer\n",
    "from sklearn import svm\n",
    "from sklearn.model_selection import train_test_split \n",
    "from sklearn.naive_bayes import MultinomialNB\n",
    "from nltk.stem import PorterStemmer\n",
    "from sklearn import metrics\n",
    "from nltk.tokenize import word_tokenize"
   ]
  },
  {
   "cell_type": "code",
   "execution_count": 6,
   "metadata": {},
   "outputs": [
    {
     "data": {
      "text/html": [
       "<div>\n",
       "<style scoped>\n",
       "    .dataframe tbody tr th:only-of-type {\n",
       "        vertical-align: middle;\n",
       "    }\n",
       "\n",
       "    .dataframe tbody tr th {\n",
       "        vertical-align: top;\n",
       "    }\n",
       "\n",
       "    .dataframe thead th {\n",
       "        text-align: right;\n",
       "    }\n",
       "</style>\n",
       "<table border=\"1\" class=\"dataframe\">\n",
       "  <thead>\n",
       "    <tr style=\"text-align: right;\">\n",
       "      <th></th>\n",
       "      <th>0</th>\n",
       "      <th>1</th>\n",
       "      <th>2</th>\n",
       "    </tr>\n",
       "  </thead>\n",
       "  <tbody>\n",
       "    <tr>\n",
       "      <th>0</th>\n",
       "      <td>joy</td>\n",
       "      <td>On days when I feel close to my partner and ot...</td>\n",
       "      <td>NaN</td>\n",
       "    </tr>\n",
       "    <tr>\n",
       "      <th>1</th>\n",
       "      <td>fear</td>\n",
       "      <td>Every time I imagine that someone I love or I ...</td>\n",
       "      <td>NaN</td>\n",
       "    </tr>\n",
       "    <tr>\n",
       "      <th>2</th>\n",
       "      <td>anger</td>\n",
       "      <td>When I had been obviously unjustly treated and...</td>\n",
       "      <td>NaN</td>\n",
       "    </tr>\n",
       "    <tr>\n",
       "      <th>3</th>\n",
       "      <td>sadness</td>\n",
       "      <td>When I think about the short time that we live...</td>\n",
       "      <td>NaN</td>\n",
       "    </tr>\n",
       "    <tr>\n",
       "      <th>4</th>\n",
       "      <td>disgust</td>\n",
       "      <td>At a gathering I found myself involuntarily si...</td>\n",
       "      <td>NaN</td>\n",
       "    </tr>\n",
       "  </tbody>\n",
       "</table>\n",
       "</div>"
      ],
      "text/plain": [
       "         0                                                  1    2\n",
       "0      joy  On days when I feel close to my partner and ot...  NaN\n",
       "1     fear  Every time I imagine that someone I love or I ...  NaN\n",
       "2    anger  When I had been obviously unjustly treated and...  NaN\n",
       "3  sadness  When I think about the short time that we live...  NaN\n",
       "4  disgust  At a gathering I found myself involuntarily si...  NaN"
      ]
     },
     "execution_count": 6,
     "metadata": {},
     "output_type": "execute_result"
    }
   ],
   "source": [
    "df = pd.read_csv(r\"C:\\Users\\LENOVO\\Documents\\2. UNIVERSITY\\SEMESTER 7\\2.Machine Learning\\2\\Bahan data\\ISEAR.csv\",header=None)\n",
    "df.head()"
   ]
  },
  {
   "cell_type": "code",
   "execution_count": 7,
   "metadata": {},
   "outputs": [
    {
     "data": {
      "text/html": [
       "<div>\n",
       "<style scoped>\n",
       "    .dataframe tbody tr th:only-of-type {\n",
       "        vertical-align: middle;\n",
       "    }\n",
       "\n",
       "    .dataframe tbody tr th {\n",
       "        vertical-align: top;\n",
       "    }\n",
       "\n",
       "    .dataframe thead th {\n",
       "        text-align: right;\n",
       "    }\n",
       "</style>\n",
       "<table border=\"1\" class=\"dataframe\">\n",
       "  <thead>\n",
       "    <tr style=\"text-align: right;\">\n",
       "      <th></th>\n",
       "      <th>Emotions</th>\n",
       "      <th>Text</th>\n",
       "    </tr>\n",
       "  </thead>\n",
       "  <tbody>\n",
       "    <tr>\n",
       "      <th>0</th>\n",
       "      <td>joy</td>\n",
       "      <td>On days when I feel close to my partner and ot...</td>\n",
       "    </tr>\n",
       "    <tr>\n",
       "      <th>1</th>\n",
       "      <td>fear</td>\n",
       "      <td>Every time I imagine that someone I love or I ...</td>\n",
       "    </tr>\n",
       "    <tr>\n",
       "      <th>2</th>\n",
       "      <td>anger</td>\n",
       "      <td>When I had been obviously unjustly treated and...</td>\n",
       "    </tr>\n",
       "    <tr>\n",
       "      <th>3</th>\n",
       "      <td>sadness</td>\n",
       "      <td>When I think about the short time that we live...</td>\n",
       "    </tr>\n",
       "    <tr>\n",
       "      <th>4</th>\n",
       "      <td>disgust</td>\n",
       "      <td>At a gathering I found myself involuntarily si...</td>\n",
       "    </tr>\n",
       "  </tbody>\n",
       "</table>\n",
       "</div>"
      ],
      "text/plain": [
       "  Emotions                                               Text\n",
       "0      joy  On days when I feel close to my partner and ot...\n",
       "1     fear  Every time I imagine that someone I love or I ...\n",
       "2    anger  When I had been obviously unjustly treated and...\n",
       "3  sadness  When I think about the short time that we live...\n",
       "4  disgust  At a gathering I found myself involuntarily si..."
      ]
     },
     "execution_count": 7,
     "metadata": {},
     "output_type": "execute_result"
    }
   ],
   "source": [
    "col = [0,1]\n",
    "new_df = df[col]\n",
    "new_df = new_df[pd.notnull(df[1])]\n",
    "new_df.columns = ['Emotions','Text']\n",
    "new_df.head()"
   ]
  },
  {
   "cell_type": "code",
   "execution_count": 8,
   "metadata": {},
   "outputs": [
    {
     "data": {
      "image/png": "[encoded data removed]",
      "text/plain": [
       "<Figure size 800x700 with 1 Axes>"
      ]
     },
     "metadata": {},
     "output_type": "display_data"
    }
   ],
   "source": [
    "import matplotlib.pyplot as plt\n",
    "fig = plt.figure(figsize=(8,7))\n",
    "new_df.groupby('Emotions').Text.count().plot.bar(ylim=0)\n",
    "plt.show()"
   ]
  },
  {
   "cell_type": "code",
   "execution_count": 9,
   "metadata": {},
   "outputs": [
    {
     "data": {
      "text/plain": [
       "0           joy\n",
       "1          fear\n",
       "2         anger\n",
       "3       sadness\n",
       "4       disgust\n",
       "         ...   \n",
       "7511      shame\n",
       "7512      shame\n",
       "7513       fear\n",
       "7514      guilt\n",
       "7515       fear\n",
       "Name: Emotions, Length: 7516, dtype: object"
      ]
     },
     "execution_count": 9,
     "metadata": {},
     "output_type": "execute_result"
    }
   ],
   "source": [
    "new_df['Text']\n",
    "new_df['Emotions']"
   ]
  },
  {
   "cell_type": "code",
   "execution_count": 10,
   "metadata": {},
   "outputs": [],
   "source": [
    "def getTokenizedList(input_df):\n",
    "    tokenizedList = []\n",
    "    for i in range(0, len(input_df)):\n",
    "        curText = input_df['Text'].iloc[i]\n",
    "        curText = curText.replace('\\n', '')\n",
    "        curTokenized = word_tokenize(curText)\n",
    "        tokenizedList.append(curTokenized)\n",
    "\n",
    "    tokenizedListWithoutPunct = []\n",
    "    punctList = list(string.punctuation)  # Perbaiki penulisan di sini\n",
    "    for i in range(0, len(tokenizedList)):\n",
    "        curList = tokenizedList[i]\n",
    "        newList = []\n",
    "        for word in curList:  # Pastikan penamaan konsisten\n",
    "            if word.lower() not in punctList:\n",
    "                newList.append(word.lower())\n",
    "        tokenizedListWithoutPunct.append(newList)\n",
    "\n",
    "    # Stemming\n",
    "    mystemmer = PorterStemmer()\n",
    "    tokenizedStemmed = []\n",
    "    for i in range(0, len(tokenizedListWithoutPunct)):\n",
    "        curList = tokenizedListWithoutPunct[i]\n",
    "        newList = []\n",
    "        for word in curList:\n",
    "            newList.append(mystemmer.stem(word))\n",
    "        tokenizedStemmed.append(newList)\n",
    "    return tokenizedStemmed\n"
   ]
  },
  {
   "cell_type": "code",
   "execution_count": 11,
   "metadata": {},
   "outputs": [],
   "source": [
    "def transformSentence(sent):\n",
    "    s =[]\n",
    "    sent=sent.replace('\\n','')\n",
    "    sentTokenized=word_tokenize(sent)\n",
    "    s.append(sentTokenized)\n",
    "    sWithoutPunct = []\n",
    "    punctList = list(string.punctuation)\n",
    "    curSentList = s[0]\n",
    "    newSentList = []\n",
    "    for word in curSentList:\n",
    "        if (word.lower() not in punctList):\n",
    "            newSentList.append(word.lower())\n",
    "    sWithoutPunct.append(newSentList)\n",
    "    mystemmer = PorterStemmer()\n",
    "    tokenziedStemmed = []\n",
    "    for i in range(0, len(sWithoutPunct)):\n",
    "        curList=sWithoutPunct[i]\n",
    "        newList=[]\n",
    "        for word in curList:\n",
    "            newList.append(mystemmer.stem(word))\n",
    "        tokenziedStemmed.append(newList)\n",
    "    return tokenziedStemmed"
   ]
  },
  {
   "cell_type": "code",
   "execution_count": 12,
   "metadata": {},
   "outputs": [],
   "source": [
    "new_df['Text'] = getTokenizedList(new_df)"
   ]
  },
  {
   "cell_type": "code",
   "execution_count": 13,
   "metadata": {},
   "outputs": [],
   "source": [
    "X_train, X_test, Y_train, Y_test=train_test_split(new_df['Text'],new_df['Emotions'], test_size=.3,random_state=1)"
   ]
  },
  {
   "cell_type": "code",
   "execution_count": 14,
   "metadata": {},
   "outputs": [],
   "source": [
    "def returnPhrase(inputList):\n",
    "    return inputList"
   ]
  },
  {
   "cell_type": "code",
   "execution_count": 15,
   "metadata": {},
   "outputs": [],
   "source": [
    "#Extracting features for Naive Bayes \n",
    "\n",
    "myVectorizer=TfidfVectorizer(analyzer='word',tokenizer=returnPhrase,preprocessor=returnPhrase,token_pattern=None,ngram_range=(1,3), max_features=4000) \n",
    "myVectorizer.fit(X_train) \n",
    "transformedTrain=myVectorizer.transform(X_train).toarray() \n",
    "transformedTest=myVectorizer.transform(X_test).toarray()"
   ]
  },
  {
   "cell_type": "code",
   "execution_count": 16,
   "metadata": {},
   "outputs": [
    {
     "name": "stdout",
     "output_type": "stream",
     "text": [
      "Best Acc Naive Bayes\n",
      "0.5658536585365853\n"
     ]
    }
   ],
   "source": [
    "curAlpha=0.33 #smoothing factor in NB\n",
    "NBClassifier=MultinomialNB(alpha=curAlpha)\n",
    "NBClassifier.fit(transformedTrain,Y_train)\n",
    "myPredTest=NBClassifier.predict(transformedTest)\n",
    "print('Best Acc Naive Bayes')\n",
    "#print(curAlpha)\n",
    "print(np.sum(myPredTest==Y_test)/len(Y_test))"
   ]
  },
  {
   "cell_type": "code",
   "execution_count": 17,
   "metadata": {},
   "outputs": [
    {
     "name": "stdout",
     "output_type": "stream",
     "text": [
      "metrics Classification Report: Naive Bayes\n",
      "              precision    recall  f1-score   support\n",
      "\n",
      "       anger       0.49      0.50      0.49       331\n",
      "     disgust       0.60      0.59      0.60       324\n",
      "        fear       0.62      0.64      0.63       311\n",
      "       guilt       0.45      0.55      0.49       299\n",
      "         joy       0.67      0.64      0.65       323\n",
      "     sadness       0.67      0.60      0.63       351\n",
      "       shame       0.48      0.45      0.47       316\n",
      "\n",
      "    accuracy                           0.57      2255\n",
      "   macro avg       0.57      0.57      0.57      2255\n",
      "weighted avg       0.57      0.57      0.57      2255\n",
      "\n"
     ]
    }
   ],
   "source": [
    "print('metrics Classification Report: Naive Bayes')\n",
    "print(metrics.classification_report(Y_test, myPredTest))"
   ]
  },
  {
   "cell_type": "code",
   "execution_count": 18,
   "metadata": {},
   "outputs": [],
   "source": [
    "myVectorizer=TfidfVectorizer(analyzer='word',tokenizer=returnPhrase,preprocessor=returnPhrase,token_pattern=None,ngram_range=(1,3),max_features=4000)\n",
    "myVectorizer.fit(X_train)\n",
    "transformedTrain=myVectorizer.transform(X_train).toarray()\n",
    "transformedTest=myVectorizer.transform(X_test).toarray()"
   ]
  },
  {
   "cell_type": "code",
   "execution_count": 19,
   "metadata": {},
   "outputs": [
    {
     "name": "stderr",
     "output_type": "stream",
     "text": [
      "c:\\Users\\LENOVO\\AppData\\Local\\Programs\\Python\\Python38\\lib\\site-packages\\sklearn\\svm\\_classes.py:32: FutureWarning: The default value of `dual` will change from `True` to `'auto'` in 1.5. Set the value of `dual` explicitly to suppress the warning.\n",
      "  warnings.warn(\n"
     ]
    },
    {
     "name": "stdout",
     "output_type": "stream",
     "text": [
      "Best ACC SVM\n",
      "0.5609756097560976\n"
     ]
    }
   ],
   "source": [
    "curC=2\n",
    "SVMClassifier=svm.LinearSVC(C=curC)\n",
    "SVMClassifier.fit(transformedTrain,Y_train)\n",
    "myPredTest=SVMClassifier.predict(transformedTest)\n",
    "print('Best ACC SVM')\n",
    "#print(curC)\n",
    "print(np.sum(myPredTest==Y_test)/len(Y_test))"
   ]
  },
  {
   "cell_type": "code",
   "execution_count": 20,
   "metadata": {},
   "outputs": [
    {
     "name": "stdout",
     "output_type": "stream",
     "text": [
      "Metrics Classification Report : SVM\n",
      "              precision    recall  f1-score   support\n",
      "\n",
      "       anger       0.44      0.47      0.45       331\n",
      "     disgust       0.57      0.55      0.56       324\n",
      "        fear       0.64      0.63      0.64       311\n",
      "       guilt       0.45      0.51      0.47       299\n",
      "         joy       0.70      0.67      0.69       323\n",
      "     sadness       0.66      0.64      0.65       351\n",
      "       shame       0.48      0.47      0.47       316\n",
      "\n",
      "    accuracy                           0.56      2255\n",
      "   macro avg       0.56      0.56      0.56      2255\n",
      "weighted avg       0.57      0.56      0.56      2255\n",
      "\n"
     ]
    }
   ],
   "source": [
    "print('Metrics Classification Report : SVM')\n",
    "print(metrics.classification_report(Y_test, myPredTest))"
   ]
  },
  {
   "cell_type": "code",
   "execution_count": 21,
   "metadata": {},
   "outputs": [],
   "source": [
    "#To predict the emotion of a sentence using Naive Bayes\n",
    "def predictSentNB(sent):\n",
    "    sentPred = NBClassifier.predict(myVectorizer.transform(transformSentence(sent)).toarray())\n",
    "    return sentPred"
   ]
  },
  {
   "cell_type": "code",
   "execution_count": 22,
   "metadata": {},
   "outputs": [],
   "source": [
    "def predictSentNB(sent):\n",
    "    sentPred = SVMClassifier.predict(myVectorizer.transform(transformSentence(sent)).toarray())\n",
    "    return sentPred"
   ]
  },
  {
   "cell_type": "code",
   "execution_count": 23,
   "metadata": {},
   "outputs": [
    {
     "name": "stdout",
     "output_type": "stream",
     "text": [
      "Naive bayes prediction\n",
      "['joy']\n",
      "SVM prediction\n",
      "['joy']\n"
     ]
    }
   ],
   "source": [
    "sent = 'I love you to the moon and back'\n",
    "\n",
    "#printing the predicted emotion\n",
    "print('Naive bayes prediction')\n",
    "print(predictSentNB(sent))\n",
    "print('SVM prediction')\n",
    "print(predictSentNB(sent))"
   ]
  },
  {
   "cell_type": "code",
   "execution_count": 24,
   "metadata": {},
   "outputs": [
    {
     "name": "stdout",
     "output_type": "stream",
     "text": [
      "Requirement already satisfied: seaborn in c:\\users\\lenovo\\appdata\\local\\programs\\python\\python38\\lib\\site-packages (0.13.2)\n",
      "Requirement already satisfied: matplotlib in c:\\users\\lenovo\\appdata\\local\\programs\\python\\python38\\lib\\site-packages (3.7.5)\n",
      "Requirement already satisfied: numpy!=1.24.0,>=1.20 in c:\\users\\lenovo\\appdata\\local\\programs\\python\\python38\\lib\\site-packages (from seaborn) (1.24.3)\n",
      "Requirement already satisfied: pandas>=1.2 in c:\\users\\lenovo\\appdata\\local\\programs\\python\\python38\\lib\\site-packages (from seaborn) (2.0.3)\n",
      "Requirement already satisfied: contourpy>=1.0.1 in c:\\users\\lenovo\\appdata\\local\\programs\\python\\python38\\lib\\site-packages (from matplotlib) (1.1.1)\n",
      "Requirement already satisfied: cycler>=0.10 in c:\\users\\lenovo\\appdata\\local\\programs\\python\\python38\\lib\\site-packages (from matplotlib) (0.12.1)\n",
      "Requirement already satisfied: fonttools>=4.22.0 in c:\\users\\lenovo\\appdata\\local\\programs\\python\\python38\\lib\\site-packages (from matplotlib) (4.52.1)\n",
      "Requirement already satisfied: kiwisolver>=1.0.1 in c:\\users\\lenovo\\appdata\\local\\programs\\python\\python38\\lib\\site-packages (from matplotlib) (1.4.5)\n",
      "Requirement already satisfied: packaging>=20.0 in c:\\users\\lenovo\\appdata\\local\\programs\\python\\python38\\lib\\site-packages (from matplotlib) (24.0)\n",
      "Requirement already satisfied: pillow>=6.2.0 in c:\\users\\lenovo\\appdata\\local\\programs\\python\\python38\\lib\\site-packages (from matplotlib) (10.3.0)\n",
      "Requirement already satisfied: pyparsing>=2.3.1 in c:\\users\\lenovo\\appdata\\local\\programs\\python\\python38\\lib\\site-packages (from matplotlib) (3.1.2)\n",
      "Requirement already satisfied: python-dateutil>=2.7 in c:\\users\\lenovo\\appdata\\local\\programs\\python\\python38\\lib\\site-packages (from matplotlib) (2.9.0.post0)\n",
      "Requirement already satisfied: importlib-resources>=3.2.0 in c:\\users\\lenovo\\appdata\\local\\programs\\python\\python38\\lib\\site-packages (from matplotlib) (6.4.0)\n",
      "Requirement already satisfied: zipp>=3.1.0 in c:\\users\\lenovo\\appdata\\local\\programs\\python\\python38\\lib\\site-packages (from importlib-resources>=3.2.0->matplotlib) (3.19.0)\n",
      "Requirement already satisfied: pytz>=2020.1 in c:\\users\\lenovo\\appdata\\local\\programs\\python\\python38\\lib\\site-packages (from pandas>=1.2->seaborn) (2024.1)\n",
      "Requirement already satisfied: tzdata>=2022.1 in c:\\users\\lenovo\\appdata\\local\\programs\\python\\python38\\lib\\site-packages (from pandas>=1.2->seaborn) (2024.1)\n",
      "Requirement already satisfied: six>=1.5 in c:\\users\\lenovo\\appdata\\local\\programs\\python\\python38\\lib\\site-packages (from python-dateutil>=2.7->matplotlib) (1.16.0)\n",
      "Note: you may need to restart the kernel to use updated packages.\n"
     ]
    }
   ],
   "source": [
    "pip install seaborn matplotlib\n"
   ]
  },
  {
   "cell_type": "code",
   "execution_count": 25,
   "metadata": {},
   "outputs": [
    {
     "data": {
      "text/plain": [
       "<function matplotlib.pyplot.show(close=None, block=None)>"
      ]
     },
     "execution_count": 25,
     "metadata": {},
     "output_type": "execute_result"
    },
    {
     "data": {
      "image/png": "[encoded data removed]",
      "text/plain": [
       "<Figure size 700x700 with 2 Axes>"
      ]
     },
     "metadata": {},
     "output_type": "display_data"
    }
   ],
   "source": [
    "from sklearn.metrics import confusion_matrix\n",
    "import seaborn as sns\n",
    "import matplotlib.pyplot as plt\n",
    "\n",
    "labels=['anger', 'disgust', 'fear', 'guilt', 'joy', 'sadness', 'shame']\n",
    "cm = confusion_matrix(Y_test, myPredTest, labels=labels)\n",
    "\n",
    "fig, ax = plt.subplots(figsize=(7,7))\n",
    "sns.heatmap(cm, annot=True,fmt='d',xticklabels=labels, yticklabels=labels,cmap='Blues')\n",
    "plt.ylabel('Actual Emotions')\n",
    "plt.xlabel('Predicted Emotions')\n",
    "plt.show"
   ]
  },
  {
   "cell_type": "code",
   "execution_count": 26,
   "metadata": {},
   "outputs": [],
   "source": [
    "#import nltk.data\n",
    "\n",
    "#ry:\n",
    "  #  nltk.data.find('tokenizers/punkt')\n",
    " #   print(\"Resource 'punkt' is available.\")\n",
    "#except LookupError:\n",
    "   # print(\"Resource 'punkt' is not available. Please download it.\")\n"
   ]
  },
  {
   "cell_type": "code",
   "execution_count": 27,
   "metadata": {},
   "outputs": [],
   "source": [
    "#import os\n",
    "#print(os.path.expanduser('~/nltk_data'))\n"
   ]
  },
  {
   "cell_type": "code",
   "execution_count": 28,
   "metadata": {},
   "outputs": [],
   "source": [
    "#import nltk\n",
    "#print(\"NLTK is installed and working!\")\n"
   ]
  },
  {
   "cell_type": "code",
   "execution_count": 29,
   "metadata": {},
   "outputs": [],
   "source": [
    "#print(new_df.columns)\n"
   ]
  },
  {
   "cell_type": "code",
   "execution_count": 30,
   "metadata": {},
   "outputs": [],
   "source": [
    "#X_train, X_test, Y_train, Y_test=train_test_split(new_df['Text'],new_df['Emotion'], test_size=.3, random_state=1)"
   ]
  },
  {
   "cell_type": "code",
   "execution_count": 31,
   "metadata": {},
   "outputs": [],
   "source": [
    "#def returnPhrase(inputList):\n",
    "#    return inputList"
   ]
  }
 ],
 "metadata": {
  "kernelspec": {
   "display_name": "Python 3",
   "language": "python",
   "name": "python3"
  },
  "language_info": {
   "codemirror_mode": {
    "name": "ipython",
    "version": 3
   },
   "file_extension": ".py",
   "mimetype": "text/x-python",
   "name": "python",
   "nbconvert_exporter": "python",
   "pygments_lexer": "ipython3",
   "version": "3.8.0"
  }
 },
 "nbformat": 4,
 "nbformat_minor": 2
}
